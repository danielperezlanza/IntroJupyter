{
 "cells": [
  {
   "cell_type": "markdown",
   "metadata": {},
   "source": [
    "# <div class=\"clearfix\" style=\"padding: 10px; padding-left: 0px\">\n",
    "<img src=\"https://raw.githubusercontent.com/jupyter/nature-demo/master/images/jupyter-logo.png\" width=\"150px\" style=\"display: inline-block; margin-top: 5px;\">\n",
    "</div>\n",
    "\n",
    "## Bienvenidos al Jupyter Notebook del Master de Data Science!\n",
    "\n",
    "¿Qué es?:\n",
    "\n",
    "Es una aplicación que permite crear y compartir documentos los cuales pueden contener textos, ecuaciones e imágenes, junto con código que puede ser ejecutado para apoyar el resto del texto. \n",
    "\n",
    "En esta asignatura y en otras, vamos a utilizar este tipo de aplicaciones para hacer pruebas, prácticas y algunos desarrollos, ya que soporta distintos lenguajes de programación, incluyendo Python y R.\n",
    "\n",
    "Entre sus características, encontramos:\n",
    "\n",
    "- Soporte gran variedad de Kernels de cálculo, inlcuyendo los lenguajes de programación habitualmente utilizados en investigación (Python, Matlab/Octave, R, etc.).\n",
    "- Computación paralelizada en procesadores y/o clusters.\n",
    "- Formateado de documentos con Markdown.\n",
    "- Compartir documentos.\n",
    "\n",
    "El documento obtenido finalmente, por un lado, puede ser generado en formatos diferentes y, por otro lado, permite el uso e interacción de los elementos anteriores, entre otros, posibilitando la generación de un documento totalmente autocontenido.\n",
    "\n",
    "<div class=\"alert alert-warning\" role=\"alert\" style=\"margin: 10px\">\n",
    "<p>**Atención**</p>\n",
    "\n",
    "<p>Cada componente de un Jupyter Notebook es una celda. Las celdas puden ser de diversos tipos, como por ejemplo código a ejecutar, cabeceras (para títulos) y celdas de código, que son las que se ejecutan realmente.</p>\n",
    "</div>\n",
    "\n",
    "En ocasiones, las instrucciones vendrán dadas en una celda de texto o Markdown, mientras que, cuando queramos ejecutar algo, tendremos que hacerlo en celdas de código.\n",
    "\n",
    "<code style=\"background-color:rgba(0, 0, 0, 0.0470588)\"> print('Hello World') #Ejemplo de codigo</code>\n",
    "\n",
    "\n",
    "\n"
   ]
  },
  {
   "cell_type": "markdown",
   "metadata": {},
   "source": [
    "# Seccion 1 - Celdas Markdown"
   ]
  },
  {
   "cell_type": "markdown",
   "metadata": {},
   "source": [
    "Son las celdas básicas de texto. Aceptan código HTML para distintos tipos de texto, enlaces, añadir imágenes, etc.\n",
    "\n",
    "Utiliza la celda siguiente para poner tu nombre como título, un fragmento de código, una lista (por ejemplo, los días de la semana) y un cuadro de aviso contando cual es tu background (estudios, interés, etc.). Puedes copiarlo de la primera celda (doble click) o buscar en estos ejemplos: https://daringfireball.net/projects/markdown/syntax"
   ]
  },
  {
   "cell_type": "markdown",
   "metadata": {
    "collapsed": true
   },
   "source": []
  },
  {
   "cell_type": "markdown",
   "metadata": {},
   "source": [
    "# Sección 2 - Opciones en Jupyter"
   ]
  },
  {
   "cell_type": "markdown",
   "metadata": {},
   "source": [
    "Jupyter tiene varias opciones en el menú de arriba. Por ejemplo, puedes hacer copias del notebook, descargarlo en distintos formatos, guardar un checkpoint recuperable, operaciones con celdas, etc.\n",
    "\n",
    "Uno de los elementos fundamentales de Jupyter es el kernel. Existen varios disponibles, de distintos lenguajes de programación que definen cómo son interpretados los comandos de las celdas tipo code.\n",
    "\n",
    "Además de eso, Jupyter incluye ciertos comandos que pueden ser invocados desde este mismo notebook. Para comprobarlo, con el siguiente comando se listan todas las opciones disponibles:\n",
    "\n",
    "<code style=\"background-color:rgba(0, 0, 0, 0.0470588)\">!jupyter --help</code>\n",
    "\n",
    "Puedes probarlo en la celda de abajo (No olvides dar al play)"
   ]
  },
  {
   "cell_type": "code",
   "execution_count": null,
   "metadata": {
    "collapsed": true
   },
   "outputs": [],
   "source": []
  },
  {
   "cell_type": "markdown",
   "metadata": {},
   "source": [
    "Como se muestra en la ayuda hay diferentes comandos y modificadores (flags) que pueden utilizarse. Nosotros utilizaremos para el desarrollo de los documentos únicamente el notebook, el cual tiene la siguiente documentación:\n",
    "\n",
    "<code style=\"background-color:rgba(0, 0, 0, 0.0470588)\">!jupyter notebook --help</code>"
   ]
  },
  {
   "cell_type": "code",
   "execution_count": null,
   "metadata": {
    "collapsed": true
   },
   "outputs": [],
   "source": []
  },
  {
   "cell_type": "markdown",
   "metadata": {},
   "source": [
    "# Sección 3 - Celdas de Código"
   ]
  },
  {
   "cell_type": "markdown",
   "metadata": {},
   "source": [
    "Aunque lo ideal es no mezclar códigos, se puede modificar el kernel para ejecutar ciertas celdas. Por ejemplo, el siguiente código está hecho en R"
   ]
  },
  {
   "cell_type": "code",
   "execution_count": null,
   "metadata": {
    "collapsed": true
   },
   "outputs": [],
   "source": [
    "# Esto es codigo en R\n",
    "a <- runif(100, min=0, max=100)\n",
    "plot(1:100,a,'l')\n",
    "points(1:100,a,col = \"red\")"
   ]
  },
  {
   "cell_type": "markdown",
   "metadata": {},
   "source": [
    "Prueba a esribir un hello world en python"
   ]
  },
  {
   "cell_type": "code",
   "execution_count": null,
   "metadata": {
    "collapsed": true
   },
   "outputs": [],
   "source": [
    "print('Hello World')"
   ]
  },
  {
   "cell_type": "code",
   "execution_count": null,
   "metadata": {
    "collapsed": true
   },
   "outputs": [],
   "source": [
    "# Esto es codigo en iPython\n",
    "import random as random\n",
    "import matplotlib.pyplot as plt\n",
    "r = random.Random()\n",
    "a = list(range(100))\n",
    "for i in range(100):\n",
    "    a[i] = r.random()\n",
    "plt.plot(range(100),a, color=\"black\", linewidth=1.0, linestyle=\"-\")\n",
    "plt.plot(range(100),a, \"ro\")\n",
    "plt.show()"
   ]
  },
  {
   "cell_type": "raw",
   "metadata": {},
   "source": [
    "Prueba a hacer un bucle for sencillo, para mostrar una operación básica (entre 1 y 100, por ejemplo)."
   ]
  },
  {
   "cell_type": "code",
   "execution_count": null,
   "metadata": {
    "collapsed": true
   },
   "outputs": [],
   "source": []
  },
  {
   "cell_type": "markdown",
   "metadata": {
    "collapsed": true
   },
   "source": [
    "# Sección 4 - Análisis de datos con pandas"
   ]
  },
  {
   "cell_type": "markdown",
   "metadata": {},
   "source": [
    "Durante la asignatura, vamos a utilizar algunas librerías de python diseñadas para el análisis de datos. Pandas es una de ellas. En las próximas celdas hay algunos ejemplos. No se trata ahora saber cómo programar, sino de entender cómo funciona.\n",
    "\n",
    "### Timeseries con pandas\n",
    "\n",
    "Trabajar con series temporales de datos es una parte muy importante en el análisis de datos.\n",
    "\n",
    "Pandas, desde la versión v0.8, incluye varias funcionalidades que permiten la gestión de este tipo de datos, incluyendo:\n",
    "\n",
    "- Manejar rangos de fechas\n",
    "- Cargar desde fichero\n",
    "- Crear desde 0\n",
    "- Manipulacioones: Shift, resample, filter\n",
    "- Acceso por campo (e.g., hour of day)\n",
    "- Gráficas\n",
    "- etc.\n",
    "\n",
    "Probaremos con un dataset de ejemplo."
   ]
  },
  {
   "cell_type": "code",
   "execution_count": null,
   "metadata": {
    "collapsed": true
   },
   "outputs": [],
   "source": [
    "from datetime import datetime, date, time\n",
    "import sys\n",
    "sys.version"
   ]
  },
  {
   "cell_type": "code",
   "execution_count": null,
   "metadata": {
    "collapsed": true
   },
   "outputs": [],
   "source": [
    "import pandas as pd\n",
    "from pandas import Series, DataFrame, Panel\n",
    "pd.__version__"
   ]
  },
  {
   "cell_type": "code",
   "execution_count": null,
   "metadata": {
    "collapsed": true
   },
   "outputs": [],
   "source": [
    "import numpy as np\n",
    "np.__version__"
   ]
  },
  {
   "cell_type": "code",
   "execution_count": null,
   "metadata": {
    "collapsed": true
   },
   "outputs": [],
   "source": [
    "import matplotlib.pyplot as plt\n",
    "import matplotlib as mpl\n",
    "mpl.rc('figure', figsize=(10, 8))\n",
    "mpl.__version__"
   ]
  },
  {
   "cell_type": "markdown",
   "metadata": {},
   "source": [
    "Descargamos el dataset"
   ]
  },
  {
   "cell_type": "code",
   "execution_count": 1,
   "metadata": {
    "collapsed": true
   },
   "outputs": [],
   "source": [
    "import requests\n",
    "\n",
    "response = requests.get('http://doriiie02.ifca.es/datasets/amt_2014.csv')\n",
    "if response.status_code == 200:\n",
    "    with open(\"./data.csv\", 'wb') as f:\n",
    "        f.write(response.content)"
   ]
  },
  {
   "cell_type": "code",
   "execution_count": null,
   "metadata": {
    "collapsed": false
   },
   "outputs": [],
   "source": [
    "ls"
   ]
  },
  {
   "cell_type": "markdown",
   "metadata": {},
   "source": [
    "## Ejemplos\n"
   ]
  },
  {
   "cell_type": "markdown",
   "metadata": {},
   "source": [
    "Ejemplos con dataset de prueba"
   ]
  },
  {
   "cell_type": "code",
   "execution_count": null,
   "metadata": {
    "collapsed": false,
    "scrolled": true
   },
   "outputs": [],
   "source": [
    "data = pd.read_csv('data.csv', index_col='date', parse_dates=True, sep=';')\n",
    "data"
   ]
  },
  {
   "cell_type": "code",
   "execution_count": null,
   "metadata": {
    "collapsed": true
   },
   "outputs": [],
   "source": [
    "ticks = data.ix[:, [\"Press\", \"Temp\"]]\n",
    "ticks.head()"
   ]
  },
  {
   "cell_type": "markdown",
   "metadata": {},
   "source": [
    "Filtrar por Fechas"
   ]
  },
  {
   "cell_type": "code",
   "execution_count": 2,
   "metadata": {
    "collapsed": false,
    "scrolled": true
   },
   "outputs": [
    {
     "ename": "NameError",
     "evalue": "name 'data' is not defined",
     "output_type": "error",
     "traceback": [
      "\u001b[0;31m---------------------------------------------------------------------------\u001b[0m",
      "\u001b[0;31mNameError\u001b[0m                                 Traceback (most recent call last)",
      "\u001b[0;32m<ipython-input-2-9bfa83bd83c0>\u001b[0m in \u001b[0;36m<module>\u001b[0;34m()\u001b[0m\n\u001b[0;32m----> 1\u001b[0;31m \u001b[0mdata\u001b[0m\u001b[0;34m.\u001b[0m\u001b[0mix\u001b[0m\u001b[0;34m[\u001b[0m\u001b[0;34m'2014-08-01 09:27'\u001b[0m\u001b[0;34m:\u001b[0m\u001b[0;34m'2014-09-01 09:32'\u001b[0m\u001b[0;34m]\u001b[0m\u001b[0;34m\u001b[0m\u001b[0m\n\u001b[0m",
      "\u001b[0;31mNameError\u001b[0m: name 'data' is not defined"
     ]
    }
   ],
   "source": [
    "data.ix['2014-08-01 09:27':'2014-09-01 09:32']"
   ]
  },
  {
   "cell_type": "markdown",
   "metadata": {},
   "source": [
    "Seleccionar un rango horario"
   ]
  },
  {
   "cell_type": "code",
   "execution_count": null,
   "metadata": {
    "collapsed": true
   },
   "outputs": [],
   "source": [
    "filtered = data['Temp'].between_time('10:00', '11:00')\n",
    "filtered.head(20)"
   ]
  },
  {
   "cell_type": "markdown",
   "metadata": {},
   "source": [
    "Obtener máximo valor de temperatura"
   ]
  },
  {
   "cell_type": "code",
   "execution_count": null,
   "metadata": {
    "collapsed": true
   },
   "outputs": [],
   "source": [
    "data['Temp'].max()"
   ]
  },
  {
   "cell_type": "markdown",
   "metadata": {},
   "source": [
    "¿Y de presión?"
   ]
  },
  {
   "cell_type": "code",
   "execution_count": null,
   "metadata": {
    "collapsed": true
   },
   "outputs": [],
   "source": []
  },
  {
   "cell_type": "markdown",
   "metadata": {},
   "source": [
    "Si no te acuerdas del nombre de las columnas..."
   ]
  },
  {
   "cell_type": "code",
   "execution_count": null,
   "metadata": {
    "collapsed": true
   },
   "outputs": [],
   "source": [
    "data.head()"
   ]
  },
  {
   "cell_type": "markdown",
   "metadata": {},
   "source": [
    "Conociendo selecciones y filtros básicos, se pueden crear gráficas."
   ]
  },
  {
   "cell_type": "code",
   "execution_count": null,
   "metadata": {
    "collapsed": true
   },
   "outputs": [],
   "source": [
    "filtered.plot()\n",
    "plt.ylim(0.5, 24.5)\n",
    "plt.show()"
   ]
  },
  {
   "cell_type": "markdown",
   "metadata": {},
   "source": [
    "Plot para el mes de agosto"
   ]
  },
  {
   "cell_type": "code",
   "execution_count": null,
   "metadata": {
    "collapsed": true
   },
   "outputs": [],
   "source": []
  },
  {
   "cell_type": "code",
   "execution_count": null,
   "metadata": {
    "collapsed": true
   },
   "outputs": [],
   "source": []
  },
  {
   "cell_type": "markdown",
   "metadata": {
    "collapsed": true
   },
   "source": [
    "Media diaria"
   ]
  },
  {
   "cell_type": "code",
   "execution_count": null,
   "metadata": {
    "collapsed": true
   },
   "outputs": [],
   "source": [
    "data['Temp'].resample('d').mean()"
   ]
  },
  {
   "cell_type": "code",
   "execution_count": null,
   "metadata": {
    "collapsed": true
   },
   "outputs": [],
   "source": []
  }
 ],
 "metadata": {
  "kernelspec": {
   "display_name": "Python 3",
   "language": "python",
   "name": "python3"
  },
  "language_info": {
   "codemirror_mode": {
    "name": "ipython",
    "version": 3
   },
   "file_extension": ".py",
   "mimetype": "text/x-python",
   "name": "python",
   "nbconvert_exporter": "python",
   "pygments_lexer": "ipython3",
   "version": "3.5.2"
  }
 },
 "nbformat": 4,
 "nbformat_minor": 1
}
